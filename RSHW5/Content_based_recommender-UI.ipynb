{
  "cells": [
    {
      "cell_type": "code",
      "execution_count": null,
      "metadata": {
        "colab": {
          "base_uri": "https://localhost:8080/"
        },
        "id": "u18i8tdSZX1K",
        "outputId": "9c8c970a-e68a-4070-831f-f930aee9676b"
      },
      "outputs": [
        {
          "output_type": "stream",
          "name": "stdout",
          "text": [
            "Mounted at /content/drive\n"
          ]
        }
      ],
      "source": [
        " from google.colab import drive\n",
        " drive.mount('/content/drive')"
      ]
    },
    {
      "cell_type": "code",
      "execution_count": null,
      "metadata": {
        "colab": {
          "base_uri": "https://localhost:8080/"
        },
        "id": "VVMaES_LLmQ9",
        "outputId": "c480cd0d-1692-4fbb-d878-66a28b064edb",
        "collapsed": true
      },
      "outputs": [
        {
          "output_type": "stream",
          "name": "stdout",
          "text": [
            "/content/drive/My Drive\n"
          ]
        }
      ],
      "source": [
        " cd /content/drive/My Drive"
      ]
    },
    {
      "cell_type": "code",
      "execution_count": null,
      "metadata": {
        "id": "8vBWqGKIUrL3",
        "outputId": "313a5cdb-1500-42f3-ff75-98c77923d578",
        "collapsed": true
      },
      "outputs": [
        {
          "name": "stdout",
          "output_type": "stream",
          "text": [
            "Requirement already satisfied: seaborn in c:\\users\\parisa\\appdata\\local\\programs\\python\\python312\\lib\\site-packages (0.13.1)\n",
            "Requirement already satisfied: numpy!=1.24.0,>=1.20 in c:\\users\\parisa\\appdata\\local\\programs\\python\\python312\\lib\\site-packages (from seaborn) (1.26.2)\n",
            "Requirement already satisfied: pandas>=1.2 in c:\\users\\parisa\\appdata\\local\\programs\\python\\python312\\lib\\site-packages (from seaborn) (2.1.4)\n",
            "Requirement already satisfied: matplotlib!=3.6.1,>=3.4 in c:\\users\\parisa\\appdata\\local\\programs\\python\\python312\\lib\\site-packages (from seaborn) (3.8.2)\n",
            "Requirement already satisfied: contourpy>=1.0.1 in c:\\users\\parisa\\appdata\\local\\programs\\python\\python312\\lib\\site-packages (from matplotlib!=3.6.1,>=3.4->seaborn) (1.2.0)\n",
            "Requirement already satisfied: cycler>=0.10 in c:\\users\\parisa\\appdata\\local\\programs\\python\\python312\\lib\\site-packages (from matplotlib!=3.6.1,>=3.4->seaborn) (0.12.1)\n",
            "Requirement already satisfied: fonttools>=4.22.0 in c:\\users\\parisa\\appdata\\local\\programs\\python\\python312\\lib\\site-packages (from matplotlib!=3.6.1,>=3.4->seaborn) (4.47.2)\n",
            "Requirement already satisfied: kiwisolver>=1.3.1 in c:\\users\\parisa\\appdata\\local\\programs\\python\\python312\\lib\\site-packages (from matplotlib!=3.6.1,>=3.4->seaborn) (1.4.5)\n",
            "Requirement already satisfied: packaging>=20.0 in c:\\users\\parisa\\appdata\\local\\programs\\python\\python312\\lib\\site-packages (from matplotlib!=3.6.1,>=3.4->seaborn) (23.2)\n",
            "Requirement already satisfied: pillow>=8 in c:\\users\\parisa\\appdata\\local\\programs\\python\\python312\\lib\\site-packages (from matplotlib!=3.6.1,>=3.4->seaborn) (10.2.0)\n",
            "Requirement already satisfied: pyparsing>=2.3.1 in c:\\users\\parisa\\appdata\\local\\programs\\python\\python312\\lib\\site-packages (from matplotlib!=3.6.1,>=3.4->seaborn) (3.1.1)\n",
            "Requirement already satisfied: python-dateutil>=2.7 in c:\\users\\parisa\\appdata\\local\\programs\\python\\python312\\lib\\site-packages (from matplotlib!=3.6.1,>=3.4->seaborn) (2.8.2)\n",
            "Requirement already satisfied: pytz>=2020.1 in c:\\users\\parisa\\appdata\\local\\programs\\python\\python312\\lib\\site-packages (from pandas>=1.2->seaborn) (2023.3.post1)\n",
            "Requirement already satisfied: tzdata>=2022.1 in c:\\users\\parisa\\appdata\\local\\programs\\python\\python312\\lib\\site-packages (from pandas>=1.2->seaborn) (2023.3)\n",
            "Requirement already satisfied: six>=1.5 in c:\\users\\parisa\\appdata\\local\\programs\\python\\python312\\lib\\site-packages (from python-dateutil>=2.7->matplotlib!=3.6.1,>=3.4->seaborn) (1.16.0)\n",
            "Note: you may need to restart the kernel to use updated packages.\n"
          ]
        }
      ],
      "source": [
        "pip install seaborn\n"
      ]
    },
    {
      "cell_type": "code",
      "execution_count": null,
      "metadata": {
        "id": "4SfSOlaqMCfS"
      },
      "outputs": [],
      "source": [
        "import pandas as pd\n",
        "import nltk\n",
        "from nltk.corpus import stopwords\n",
        "from nltk.tokenize import word_tokenize\n",
        "from nltk.stem import WordNetLemmatizer\n",
        "from sklearn.metrics.pairwise import cosine_similarity\n",
        "from sklearn.feature_extraction.text import CountVectorizer, TfidfVectorizer\n",
        "from sklearn.metrics.pairwise import cosine_similarity\n",
        "from sklearn.decomposition import TruncatedSVD\n",
        "import re\n",
        "import string\n",
        "import seaborn as sns\n",
        "import matplotlib.pyplot as plt\n"
      ]
    },
    {
      "cell_type": "code",
      "execution_count": null,
      "metadata": {
        "id": "nYd5EpBiN9Be"
      },
      "outputs": [],
      "source": [
        "df = pd.read_csv('./movielens_movies.csv') #Read dataset\n",
        "#ratings_df_600 = ratings_df.head(600000) #Get first 600000 rows of dataset"
      ]
    },
    {
      "cell_type": "code",
      "execution_count": null,
      "metadata": {
        "colab": {
          "base_uri": "https://localhost:8080/",
          "height": 423
        },
        "id": "FHbiX5V-PR4h",
        "outputId": "565113cd-f42e-42a4-dd57-efcb82794336"
      },
      "outputs": [
        {
          "output_type": "execute_result",
          "data": {
            "text/plain": [
              "    Unnamed: 0  movie_id                                 title  \\\n",
              "0            0         1                      Toy Story (1995)   \n",
              "1            1         2                        Jumanji (1995)   \n",
              "2            2         3               Grumpier Old Men (1995)   \n",
              "3            3         4              Waiting to Exhale (1995)   \n",
              "4            4         5    Father of the Bride Part II (1995)   \n",
              "..         ...       ...                                   ...   \n",
              "95          95        97               Hate (Haine, La) (1995)   \n",
              "96          96        98                       Shopping (1994)   \n",
              "97          97        99  Heidi Fleiss: Hollywood Madam (1995)   \n",
              "98          98       100                      City Hall (1996)   \n",
              "99          99       101                  Bottle Rocket (1996)   \n",
              "\n",
              "                          genres  \n",
              "0    Animation|Children's|Comedy  \n",
              "1   Adventure|Children's|Fantasy  \n",
              "2                 Comedy|Romance  \n",
              "3                   Comedy|Drama  \n",
              "4                         Comedy  \n",
              "..                           ...  \n",
              "95                         Drama  \n",
              "96               Action|Thriller  \n",
              "97                   Documentary  \n",
              "98                Drama|Thriller  \n",
              "99                        Comedy  \n",
              "\n",
              "[100 rows x 4 columns]"
            ],
            "text/html": [
              "\n",
              "  <div id=\"df-c7b4c249-bc32-4296-acb9-7330c3e03deb\" class=\"colab-df-container\">\n",
              "    <div>\n",
              "<style scoped>\n",
              "    .dataframe tbody tr th:only-of-type {\n",
              "        vertical-align: middle;\n",
              "    }\n",
              "\n",
              "    .dataframe tbody tr th {\n",
              "        vertical-align: top;\n",
              "    }\n",
              "\n",
              "    .dataframe thead th {\n",
              "        text-align: right;\n",
              "    }\n",
              "</style>\n",
              "<table border=\"1\" class=\"dataframe\">\n",
              "  <thead>\n",
              "    <tr style=\"text-align: right;\">\n",
              "      <th></th>\n",
              "      <th>Unnamed: 0</th>\n",
              "      <th>movie_id</th>\n",
              "      <th>title</th>\n",
              "      <th>genres</th>\n",
              "    </tr>\n",
              "  </thead>\n",
              "  <tbody>\n",
              "    <tr>\n",
              "      <th>0</th>\n",
              "      <td>0</td>\n",
              "      <td>1</td>\n",
              "      <td>Toy Story (1995)</td>\n",
              "      <td>Animation|Children's|Comedy</td>\n",
              "    </tr>\n",
              "    <tr>\n",
              "      <th>1</th>\n",
              "      <td>1</td>\n",
              "      <td>2</td>\n",
              "      <td>Jumanji (1995)</td>\n",
              "      <td>Adventure|Children's|Fantasy</td>\n",
              "    </tr>\n",
              "    <tr>\n",
              "      <th>2</th>\n",
              "      <td>2</td>\n",
              "      <td>3</td>\n",
              "      <td>Grumpier Old Men (1995)</td>\n",
              "      <td>Comedy|Romance</td>\n",
              "    </tr>\n",
              "    <tr>\n",
              "      <th>3</th>\n",
              "      <td>3</td>\n",
              "      <td>4</td>\n",
              "      <td>Waiting to Exhale (1995)</td>\n",
              "      <td>Comedy|Drama</td>\n",
              "    </tr>\n",
              "    <tr>\n",
              "      <th>4</th>\n",
              "      <td>4</td>\n",
              "      <td>5</td>\n",
              "      <td>Father of the Bride Part II (1995)</td>\n",
              "      <td>Comedy</td>\n",
              "    </tr>\n",
              "    <tr>\n",
              "      <th>...</th>\n",
              "      <td>...</td>\n",
              "      <td>...</td>\n",
              "      <td>...</td>\n",
              "      <td>...</td>\n",
              "    </tr>\n",
              "    <tr>\n",
              "      <th>95</th>\n",
              "      <td>95</td>\n",
              "      <td>97</td>\n",
              "      <td>Hate (Haine, La) (1995)</td>\n",
              "      <td>Drama</td>\n",
              "    </tr>\n",
              "    <tr>\n",
              "      <th>96</th>\n",
              "      <td>96</td>\n",
              "      <td>98</td>\n",
              "      <td>Shopping (1994)</td>\n",
              "      <td>Action|Thriller</td>\n",
              "    </tr>\n",
              "    <tr>\n",
              "      <th>97</th>\n",
              "      <td>97</td>\n",
              "      <td>99</td>\n",
              "      <td>Heidi Fleiss: Hollywood Madam (1995)</td>\n",
              "      <td>Documentary</td>\n",
              "    </tr>\n",
              "    <tr>\n",
              "      <th>98</th>\n",
              "      <td>98</td>\n",
              "      <td>100</td>\n",
              "      <td>City Hall (1996)</td>\n",
              "      <td>Drama|Thriller</td>\n",
              "    </tr>\n",
              "    <tr>\n",
              "      <th>99</th>\n",
              "      <td>99</td>\n",
              "      <td>101</td>\n",
              "      <td>Bottle Rocket (1996)</td>\n",
              "      <td>Comedy</td>\n",
              "    </tr>\n",
              "  </tbody>\n",
              "</table>\n",
              "<p>100 rows × 4 columns</p>\n",
              "</div>\n",
              "    <div class=\"colab-df-buttons\">\n",
              "\n",
              "  <div class=\"colab-df-container\">\n",
              "    <button class=\"colab-df-convert\" onclick=\"convertToInteractive('df-c7b4c249-bc32-4296-acb9-7330c3e03deb')\"\n",
              "            title=\"Convert this dataframe to an interactive table.\"\n",
              "            style=\"display:none;\">\n",
              "\n",
              "  <svg xmlns=\"http://www.w3.org/2000/svg\" height=\"24px\" viewBox=\"0 -960 960 960\">\n",
              "    <path d=\"M120-120v-720h720v720H120Zm60-500h600v-160H180v160Zm220 220h160v-160H400v160Zm0 220h160v-160H400v160ZM180-400h160v-160H180v160Zm440 0h160v-160H620v160ZM180-180h160v-160H180v160Zm440 0h160v-160H620v160Z\"/>\n",
              "  </svg>\n",
              "    </button>\n",
              "\n",
              "  <style>\n",
              "    .colab-df-container {\n",
              "      display:flex;\n",
              "      gap: 12px;\n",
              "    }\n",
              "\n",
              "    .colab-df-convert {\n",
              "      background-color: #E8F0FE;\n",
              "      border: none;\n",
              "      border-radius: 50%;\n",
              "      cursor: pointer;\n",
              "      display: none;\n",
              "      fill: #1967D2;\n",
              "      height: 32px;\n",
              "      padding: 0 0 0 0;\n",
              "      width: 32px;\n",
              "    }\n",
              "\n",
              "    .colab-df-convert:hover {\n",
              "      background-color: #E2EBFA;\n",
              "      box-shadow: 0px 1px 2px rgba(60, 64, 67, 0.3), 0px 1px 3px 1px rgba(60, 64, 67, 0.15);\n",
              "      fill: #174EA6;\n",
              "    }\n",
              "\n",
              "    .colab-df-buttons div {\n",
              "      margin-bottom: 4px;\n",
              "    }\n",
              "\n",
              "    [theme=dark] .colab-df-convert {\n",
              "      background-color: #3B4455;\n",
              "      fill: #D2E3FC;\n",
              "    }\n",
              "\n",
              "    [theme=dark] .colab-df-convert:hover {\n",
              "      background-color: #434B5C;\n",
              "      box-shadow: 0px 1px 3px 1px rgba(0, 0, 0, 0.15);\n",
              "      filter: drop-shadow(0px 1px 2px rgba(0, 0, 0, 0.3));\n",
              "      fill: #FFFFFF;\n",
              "    }\n",
              "  </style>\n",
              "\n",
              "    <script>\n",
              "      const buttonEl =\n",
              "        document.querySelector('#df-c7b4c249-bc32-4296-acb9-7330c3e03deb button.colab-df-convert');\n",
              "      buttonEl.style.display =\n",
              "        google.colab.kernel.accessAllowed ? 'block' : 'none';\n",
              "\n",
              "      async function convertToInteractive(key) {\n",
              "        const element = document.querySelector('#df-c7b4c249-bc32-4296-acb9-7330c3e03deb');\n",
              "        const dataTable =\n",
              "          await google.colab.kernel.invokeFunction('convertToInteractive',\n",
              "                                                    [key], {});\n",
              "        if (!dataTable) return;\n",
              "\n",
              "        const docLinkHtml = 'Like what you see? Visit the ' +\n",
              "          '<a target=\"_blank\" href=https://colab.research.google.com/notebooks/data_table.ipynb>data table notebook</a>'\n",
              "          + ' to learn more about interactive tables.';\n",
              "        element.innerHTML = '';\n",
              "        dataTable['output_type'] = 'display_data';\n",
              "        await google.colab.output.renderOutput(dataTable, element);\n",
              "        const docLink = document.createElement('div');\n",
              "        docLink.innerHTML = docLinkHtml;\n",
              "        element.appendChild(docLink);\n",
              "      }\n",
              "    </script>\n",
              "  </div>\n",
              "\n",
              "\n",
              "<div id=\"df-fa2896cb-6d8d-4b21-9c40-197fe98309fd\">\n",
              "  <button class=\"colab-df-quickchart\" onclick=\"quickchart('df-fa2896cb-6d8d-4b21-9c40-197fe98309fd')\"\n",
              "            title=\"Suggest charts\"\n",
              "            style=\"display:none;\">\n",
              "\n",
              "<svg xmlns=\"http://www.w3.org/2000/svg\" height=\"24px\"viewBox=\"0 0 24 24\"\n",
              "     width=\"24px\">\n",
              "    <g>\n",
              "        <path d=\"M19 3H5c-1.1 0-2 .9-2 2v14c0 1.1.9 2 2 2h14c1.1 0 2-.9 2-2V5c0-1.1-.9-2-2-2zM9 17H7v-7h2v7zm4 0h-2V7h2v10zm4 0h-2v-4h2v4z\"/>\n",
              "    </g>\n",
              "</svg>\n",
              "  </button>\n",
              "\n",
              "<style>\n",
              "  .colab-df-quickchart {\n",
              "      --bg-color: #E8F0FE;\n",
              "      --fill-color: #1967D2;\n",
              "      --hover-bg-color: #E2EBFA;\n",
              "      --hover-fill-color: #174EA6;\n",
              "      --disabled-fill-color: #AAA;\n",
              "      --disabled-bg-color: #DDD;\n",
              "  }\n",
              "\n",
              "  [theme=dark] .colab-df-quickchart {\n",
              "      --bg-color: #3B4455;\n",
              "      --fill-color: #D2E3FC;\n",
              "      --hover-bg-color: #434B5C;\n",
              "      --hover-fill-color: #FFFFFF;\n",
              "      --disabled-bg-color: #3B4455;\n",
              "      --disabled-fill-color: #666;\n",
              "  }\n",
              "\n",
              "  .colab-df-quickchart {\n",
              "    background-color: var(--bg-color);\n",
              "    border: none;\n",
              "    border-radius: 50%;\n",
              "    cursor: pointer;\n",
              "    display: none;\n",
              "    fill: var(--fill-color);\n",
              "    height: 32px;\n",
              "    padding: 0;\n",
              "    width: 32px;\n",
              "  }\n",
              "\n",
              "  .colab-df-quickchart:hover {\n",
              "    background-color: var(--hover-bg-color);\n",
              "    box-shadow: 0 1px 2px rgba(60, 64, 67, 0.3), 0 1px 3px 1px rgba(60, 64, 67, 0.15);\n",
              "    fill: var(--button-hover-fill-color);\n",
              "  }\n",
              "\n",
              "  .colab-df-quickchart-complete:disabled,\n",
              "  .colab-df-quickchart-complete:disabled:hover {\n",
              "    background-color: var(--disabled-bg-color);\n",
              "    fill: var(--disabled-fill-color);\n",
              "    box-shadow: none;\n",
              "  }\n",
              "\n",
              "  .colab-df-spinner {\n",
              "    border: 2px solid var(--fill-color);\n",
              "    border-color: transparent;\n",
              "    border-bottom-color: var(--fill-color);\n",
              "    animation:\n",
              "      spin 1s steps(1) infinite;\n",
              "  }\n",
              "\n",
              "  @keyframes spin {\n",
              "    0% {\n",
              "      border-color: transparent;\n",
              "      border-bottom-color: var(--fill-color);\n",
              "      border-left-color: var(--fill-color);\n",
              "    }\n",
              "    20% {\n",
              "      border-color: transparent;\n",
              "      border-left-color: var(--fill-color);\n",
              "      border-top-color: var(--fill-color);\n",
              "    }\n",
              "    30% {\n",
              "      border-color: transparent;\n",
              "      border-left-color: var(--fill-color);\n",
              "      border-top-color: var(--fill-color);\n",
              "      border-right-color: var(--fill-color);\n",
              "    }\n",
              "    40% {\n",
              "      border-color: transparent;\n",
              "      border-right-color: var(--fill-color);\n",
              "      border-top-color: var(--fill-color);\n",
              "    }\n",
              "    60% {\n",
              "      border-color: transparent;\n",
              "      border-right-color: var(--fill-color);\n",
              "    }\n",
              "    80% {\n",
              "      border-color: transparent;\n",
              "      border-right-color: var(--fill-color);\n",
              "      border-bottom-color: var(--fill-color);\n",
              "    }\n",
              "    90% {\n",
              "      border-color: transparent;\n",
              "      border-bottom-color: var(--fill-color);\n",
              "    }\n",
              "  }\n",
              "</style>\n",
              "\n",
              "  <script>\n",
              "    async function quickchart(key) {\n",
              "      const quickchartButtonEl =\n",
              "        document.querySelector('#' + key + ' button');\n",
              "      quickchartButtonEl.disabled = true;  // To prevent multiple clicks.\n",
              "      quickchartButtonEl.classList.add('colab-df-spinner');\n",
              "      try {\n",
              "        const charts = await google.colab.kernel.invokeFunction(\n",
              "            'suggestCharts', [key], {});\n",
              "      } catch (error) {\n",
              "        console.error('Error during call to suggestCharts:', error);\n",
              "      }\n",
              "      quickchartButtonEl.classList.remove('colab-df-spinner');\n",
              "      quickchartButtonEl.classList.add('colab-df-quickchart-complete');\n",
              "    }\n",
              "    (() => {\n",
              "      let quickchartButtonEl =\n",
              "        document.querySelector('#df-fa2896cb-6d8d-4b21-9c40-197fe98309fd button');\n",
              "      quickchartButtonEl.style.display =\n",
              "        google.colab.kernel.accessAllowed ? 'block' : 'none';\n",
              "    })();\n",
              "  </script>\n",
              "</div>\n",
              "    </div>\n",
              "  </div>\n"
            ],
            "application/vnd.google.colaboratory.intrinsic+json": {
              "type": "dataframe",
              "variable_name": "df",
              "summary": "{\n  \"name\": \"df\",\n  \"rows\": 3883,\n  \"fields\": [\n    {\n      \"column\": \"Unnamed: 0\",\n      \"properties\": {\n        \"dtype\": \"number\",\n        \"std\": 1121,\n        \"min\": 0,\n        \"max\": 3882,\n        \"num_unique_values\": 3883,\n        \"samples\": [\n          1344,\n          2637,\n          3598\n        ],\n        \"semantic_type\": \"\",\n        \"description\": \"\"\n      }\n    },\n    {\n      \"column\": \"movie_id\",\n      \"properties\": {\n        \"dtype\": \"number\",\n        \"std\": 1146,\n        \"min\": 1,\n        \"max\": 3952,\n        \"num_unique_values\": 3883,\n        \"samples\": [\n          1365,\n          2706,\n          3667\n        ],\n        \"semantic_type\": \"\",\n        \"description\": \"\"\n      }\n    },\n    {\n      \"column\": \"title\",\n      \"properties\": {\n        \"dtype\": \"string\",\n        \"num_unique_values\": 3883,\n        \"samples\": [\n          \"Ridicule (1996)\",\n          \"American Pie (1999)\",\n          \"Rent-A-Cop (1988)\"\n        ],\n        \"semantic_type\": \"\",\n        \"description\": \"\"\n      }\n    },\n    {\n      \"column\": \"genres\",\n      \"properties\": {\n        \"dtype\": \"category\",\n        \"num_unique_values\": 301,\n        \"samples\": [\n          \"Action|Adventure|Comedy|Horror\",\n          \"Romance|Western\",\n          \"Action|Adventure|Children's|Comedy\"\n        ],\n        \"semantic_type\": \"\",\n        \"description\": \"\"\n      }\n    }\n  ]\n}"
            }
          },
          "metadata": {},
          "execution_count": 5
        }
      ],
      "source": [
        "df.head(100)"
      ]
    },
    {
      "cell_type": "code",
      "execution_count": null,
      "metadata": {
        "colab": {
          "base_uri": "https://localhost:8080/"
        },
        "id": "8REs3_1qRqgQ",
        "outputId": "3853aa8a-a6de-43f2-9bf7-1792c3cbcebb"
      },
      "outputs": [
        {
          "output_type": "stream",
          "name": "stderr",
          "text": [
            "[nltk_data] Downloading package punkt to /root/nltk_data...\n",
            "[nltk_data]   Unzipping tokenizers/punkt.zip.\n",
            "[nltk_data] Downloading package stopwords to /root/nltk_data...\n",
            "[nltk_data]   Unzipping corpora/stopwords.zip.\n",
            "[nltk_data] Downloading package wordnet to /root/nltk_data...\n"
          ]
        },
        {
          "output_type": "execute_result",
          "data": {
            "text/plain": [
              "True"
            ]
          },
          "metadata": {},
          "execution_count": 6
        }
      ],
      "source": [
        "# Download necessary resources\n",
        "nltk.download('punkt')  # For tokenization\n",
        "nltk.download('stopwords')  # For stopword removal\n",
        "nltk.download('wordnet')  # For lemmatization"
      ]
    },
    {
      "cell_type": "code",
      "execution_count": null,
      "metadata": {
        "id": "mRLdSHglRwHN"
      },
      "outputs": [],
      "source": [
        "# Load the stopwords\n",
        "stop_words = set(stopwords.words('english'))\n",
        "\n",
        "# Initialize the lemmatizer\n",
        "lemmatizer = WordNetLemmatizer()"
      ]
    },
    {
      "cell_type": "code",
      "execution_count": null,
      "metadata": {
        "id": "JSfzccGxR7K2"
      },
      "outputs": [],
      "source": [
        "def text_preprocess(text):\n",
        "    # Tokenization\n",
        "    tokens = word_tokenize(text)\n",
        "\n",
        "    # Lowercasing\n",
        "    tokens = [token.lower() for token in tokens]\n",
        "\n",
        "    # Punctuation removal\n",
        "    tokens = [token for token in tokens if token not in string.punctuation]\n",
        "\n",
        "    # Stopword removal\n",
        "    stop_words = set(stopwords.words('english'))\n",
        "    tokens = [token for token in tokens if token not in stop_words]\n",
        "\n",
        "    # Lemmatization\n",
        "    lemmatizer = WordNetLemmatizer()\n",
        "    tokens = [lemmatizer.lemmatize(token) for token in tokens]\n",
        "\n",
        "    # Remove numbers\n",
        "    number_pattern = r'\\b(?:zero|one|two|three|four|five|six|seven|eight|nine|ten|eleven|twelve|thirteen|fourteen|fifteen|sixteen|seventeen|eighteen|nineteen|twenty|thirty|forty|fifty|sixty|seventy|eighty|ninety|hundred|thousand|\\d+)\\b'\n",
        "    tokens = [re.sub(number_pattern, '', token) for token in tokens]\n",
        "\n",
        "    # Join tokens back into a single string\n",
        "    preprocessed_text = ' '.join(tokens)\n",
        "\n",
        "    # Remove additional whitespace\n",
        "    preprocessed_text = re.sub(r'\\s+', ' ', preprocessed_text)\n",
        "\n",
        "    return preprocessed_text.strip()\n"
      ]
    },
    {
      "cell_type": "code",
      "execution_count": null,
      "metadata": {
        "id": "mm2LxoooNGBq"
      },
      "outputs": [],
      "source": [
        "# Initialize the TfidfVectorizer\n",
        "vectorizer = TfidfVectorizer()\n"
      ]
    },
    {
      "cell_type": "code",
      "execution_count": null,
      "metadata": {
        "id": "ij2UgNQNVfAh"
      },
      "outputs": [],
      "source": [
        "# Select the columns to join\n",
        "columns_to_join = ['title', 'genres']\n",
        "\n",
        "# Create a new column by joining the selected columns\n",
        "df['Joined_Column'] = df[columns_to_join].apply(lambda x: ', '.join(x.dropna().astype(str)), axis=1)"
      ]
    },
    {
      "cell_type": "code",
      "execution_count": null,
      "metadata": {
        "colab": {
          "base_uri": "https://localhost:8080/",
          "height": 35
        },
        "id": "O8sqqhA0Vmzu",
        "outputId": "9a8fc708-08b7-427c-87b0-7fe502dcc313"
      },
      "outputs": [
        {
          "output_type": "execute_result",
          "data": {
            "text/plain": [
              "'Grumpier Old Men (1995), Comedy|Romance'"
            ],
            "application/vnd.google.colaboratory.intrinsic+json": {
              "type": "string"
            }
          },
          "metadata": {},
          "execution_count": 11
        }
      ],
      "source": [
        "df['Joined_Column'][2]"
      ]
    },
    {
      "cell_type": "code",
      "execution_count": null,
      "metadata": {
        "id": "jSRl69ndVy4p"
      },
      "outputs": [],
      "source": [
        "def text_preprocess_mod(text):\n",
        "    # Remove leading/trailing spaces\n",
        "    text = text.strip()\n",
        "\n",
        "    # Convert to lowercase\n",
        "    text = text.lower()\n",
        "\n",
        "    # Remove spaces between names\n",
        "    text = re.sub(r'\\s+', '', text)\n",
        "\n",
        "    # Reolace spaces instead ,\n",
        "    text = text.replace(\",\", \" \")\n",
        "\n",
        "    return text"
      ]
    },
    {
      "cell_type": "code",
      "execution_count": null,
      "metadata": {
        "id": "ah4nEwQCV8et"
      },
      "outputs": [],
      "source": [
        "# Apply text preprocessing to the Joined_Column\n",
        "df['Preprocessed_Joined_Column'] = df['Joined_Column'].apply(text_preprocess_mod)"
      ]
    },
    {
      "cell_type": "code",
      "execution_count": null,
      "metadata": {
        "colab": {
          "base_uri": "https://localhost:8080/",
          "height": 35
        },
        "id": "ZAXMwhVeWCGQ",
        "outputId": "45a0f84c-0024-4ac0-da30-433ffba085fe"
      },
      "outputs": [
        {
          "output_type": "execute_result",
          "data": {
            "text/plain": [
              "\"Tom and Huck (1995), Adventure|Children's\""
            ],
            "application/vnd.google.colaboratory.intrinsic+json": {
              "type": "string"
            }
          },
          "metadata": {},
          "execution_count": 14
        }
      ],
      "source": [
        "df['Joined_Column'][7]"
      ]
    },
    {
      "cell_type": "code",
      "execution_count": null,
      "metadata": {
        "colab": {
          "base_uri": "https://localhost:8080/",
          "height": 35
        },
        "id": "iAaI5hZPWEyw",
        "outputId": "a21300dd-4f86-479e-a00d-8136ef040f21"
      },
      "outputs": [
        {
          "output_type": "execute_result",
          "data": {
            "text/plain": [
              "\"tomandhuck(1995) adventure|children's\""
            ],
            "application/vnd.google.colaboratory.intrinsic+json": {
              "type": "string"
            }
          },
          "metadata": {},
          "execution_count": 15
        }
      ],
      "source": [
        "df['Preprocessed_Joined_Column'][7]"
      ]
    },
    {
      "cell_type": "code",
      "execution_count": null,
      "metadata": {
        "id": "4zZVfCcNkbqF"
      },
      "outputs": [],
      "source": [
        "# Fit the vectorizer on the 'Overview' column\n",
        "overview_vectors_mod = vectorizer.fit_transform(df['Preprocessed_Joined_Column'])"
      ]
    },
    {
      "cell_type": "code",
      "execution_count": null,
      "metadata": {
        "colab": {
          "base_uri": "https://localhost:8080/"
        },
        "id": "unDKFP66NdK_",
        "outputId": "8cbda0f4-9f31-4a75-dd03-57a50b4de087"
      },
      "outputs": [
        {
          "output_type": "stream",
          "name": "stdout",
          "text": [
            "  (0, 922)\t0.19437497710216609\n",
            "  (0, 841)\t0.33400383346972634\n",
            "  (0, 291)\t0.4114413514148407\n",
            "  (0, 83)\t0.3064352792685\n",
            "  (0, 4271)\t0.766468030298476\n",
            "  (1, 1388)\t0.42893450171530223\n",
            "  (1, 146)\t0.3082936393494536\n",
            "  (1, 2167)\t0.7308598169376717\n",
            "  (1, 841)\t0.3184868395503777\n",
            "  (1, 83)\t0.29219905234952304\n",
            "  (2, 3403)\t0.3113935307813091\n",
            "  (2, 1737)\t0.8588832232445914\n",
            "  (2, 922)\t0.21781131143407326\n",
            "  (2, 83)\t0.3433830374784115\n",
            "  (3, 1218)\t0.19488724327387558\n",
            "  (3, 4443)\t0.8864900557411717\n",
            "  (3, 922)\t0.22481235677747324\n",
            "  (3, 83)\t0.35442029812255593\n",
            "  (4, 1406)\t0.9038202178430272\n",
            "  (4, 922)\t0.22920725614517842\n",
            "  (4, 83)\t0.36134892769812016\n",
            "  (5, 4195)\t0.2807341943854882\n",
            "  (5, 992)\t0.358054488788989\n",
            "  (5, 137)\t0.27871240518152235\n",
            "  (5, 1819)\t0.7853192116190336\n",
            "  :\t:\n",
            "  (3876, 1613)\t0.7909629782976019\n",
            "  (3876, 89)\t0.40762495241318103\n",
            "  (3876, 4195)\t0.29679112735120117\n",
            "  (3876, 137)\t0.29465369945993564\n",
            "  (3876, 1218)\t0.18252038037686805\n",
            "  (3877, 1613)\t0.7726547233880249\n",
            "  (3877, 59)\t0.5647568330597597\n",
            "  (3877, 4195)\t0.28992136509489225\n",
            "  (3878, 2623)\t0.8752528026229361\n",
            "  (3878, 89)\t0.42972681072093893\n",
            "  (3878, 922)\t0.22196260867160938\n",
            "  (3879, 3340)\t0.8806604400732655\n",
            "  (3879, 89)\t0.43238182283641147\n",
            "  (3879, 1218)\t0.1936056522176572\n",
            "  (3880, 4207)\t0.8806604400732655\n",
            "  (3880, 89)\t0.43238182283641147\n",
            "  (3880, 1218)\t0.1936056522176572\n",
            "  (3881, 4341)\t0.8806604400732655\n",
            "  (3881, 89)\t0.43238182283641147\n",
            "  (3881, 1218)\t0.1936056522176572\n",
            "  (3882, 951)\t0.8143880658709379\n",
            "  (3882, 89)\t0.39984377677757493\n",
            "  (3882, 4071)\t0.24513038345275912\n",
            "  (3882, 4195)\t0.29112566483391056\n",
            "  (3882, 1218)\t0.17903623857352116\n"
          ]
        }
      ],
      "source": [
        "print(overview_vectors_mod)"
      ]
    },
    {
      "cell_type": "code",
      "execution_count": null,
      "metadata": {
        "id": "k7Y7oLq4f6wx"
      },
      "outputs": [],
      "source": [
        "# reduce dimensionality for improved performance\n",
        "svd = TruncatedSVD(n_components=3000)\n",
        "reduced_data = svd.fit_transform(overview_vectors_mod)"
      ]
    },
    {
      "cell_type": "markdown",
      "metadata": {
        "id": "yasLRLsNqMn-"
      },
      "source": [
        "**Question 5**"
      ]
    },
    {
      "cell_type": "code",
      "execution_count": null,
      "metadata": {
        "id": "uRCX3pMGPxB_"
      },
      "outputs": [],
      "source": [
        "cosine_sim = cosine_similarity(reduced_data)\n",
        "indices = pd.Series(df.index, index = df['title']).drop_duplicates()"
      ]
    },
    {
      "cell_type": "code",
      "execution_count": null,
      "metadata": {
        "id": "EtYHbYdudZX5"
      },
      "outputs": [],
      "source": [
        "def get_recommendations(title, cosine_sim=cosine_sim):\n",
        "    indx = indices[title]\n",
        "    sim_scores = list(enumerate(cosine_sim[indx]))\n",
        "    sim_scores = sorted(sim_scores, key=lambda x: x[1], reverse=True)\n",
        "    sim_scores = sim_scores[1:21]\n",
        "    movie_indices = [i[0] for i in sim_scores]\n",
        "    recommended_movies = df.loc[movie_indices, 'title'].reset_index(drop=True)\n",
        "    cosine_similarity_scores = [i[1] for i in sim_scores]\n",
        "    result_df = pd.DataFrame({'title': recommended_movies, 'Cosine_Similarity': cosine_similarity_scores})\n",
        "    return result_df"
      ]
    },
    {
      "cell_type": "code",
      "execution_count": null,
      "metadata": {
        "id": "RBjHDYtXbsto"
      },
      "outputs": [],
      "source": [
        "def show_result(recommended_items):\n",
        "    # Convert cosine similarity values to numeric\n",
        "    recommended_items['Cosine_Similarity'] = pd.to_numeric(recommended_items['Cosine_Similarity'])\n",
        "\n",
        "    # Sort the DataFrame by cosine similarity in descending order\n",
        "    recommended_items = recommended_items.sort_values('Cosine_Similarity', ascending=False)\n",
        "\n",
        "    # Create a bar plot using Seaborn\n",
        "    sns.barplot(x='Cosine_Similarity', y='title', data=recommended_items.head(20), orient='h')\n",
        "    plt.xlabel('Cosine Similarity')\n",
        "    plt.ylabel('Recommended Items')\n",
        "    plt.title('Top 20 Recommended Items')\n",
        "    plt.show()"
      ]
    },
    {
      "cell_type": "code",
      "execution_count": null,
      "metadata": {
        "colab": {
          "base_uri": "https://localhost:8080/",
          "height": 472
        },
        "id": "ctkWg5Pscb0f",
        "outputId": "ec215047-caed-41f4-91bb-ff436910c077"
      },
      "outputs": [
        {
          "data": {
            "image/png": "[encoded data removed]",
            "text/plain": [
              "<Figure size 640x480 with 1 Axes>"
            ]
          },
          "metadata": {},
          "output_type": "display_data"
        }
      ],
      "source": [
        "\n",
        "title = 'Toy Story (1995)'\n",
        "\n",
        "# Call the 'get_recommendations' function\n",
        "recommended_items = get_recommendations(title)\n",
        "\n",
        "# Call the 'show_result' function\n",
        "show_result(recommended_items)"
      ]
    },
    {
      "cell_type": "code",
      "execution_count": null,
      "metadata": {
        "colab": {
          "base_uri": "https://localhost:8080/",
          "height": 676
        },
        "id": "wdzGzAWnhCZm",
        "outputId": "d766f86d-d106-4b32-85cc-e7f9f48a6e3b"
      },
      "outputs": [
        {
          "data": {
            "text/html": [
              "<div>\n",
              "<style scoped>\n",
              "    .dataframe tbody tr th:only-of-type {\n",
              "        vertical-align: middle;\n",
              "    }\n",
              "\n",
              "    .dataframe tbody tr th {\n",
              "        vertical-align: top;\n",
              "    }\n",
              "\n",
              "    .dataframe thead th {\n",
              "        text-align: right;\n",
              "    }\n",
              "</style>\n",
              "<table border=\"1\" class=\"dataframe\">\n",
              "  <thead>\n",
              "    <tr style=\"text-align: right;\">\n",
              "      <th></th>\n",
              "      <th>title</th>\n",
              "      <th>Cosine_Similarity</th>\n",
              "    </tr>\n",
              "  </thead>\n",
              "  <tbody>\n",
              "    <tr>\n",
              "      <th>0</th>\n",
              "      <td>Goofy Movie, A (1995)</td>\n",
              "      <td>0.550451</td>\n",
              "    </tr>\n",
              "    <tr>\n",
              "      <th>1</th>\n",
              "      <td>Pocahontas (1995)</td>\n",
              "      <td>0.496681</td>\n",
              "    </tr>\n",
              "    <tr>\n",
              "      <th>2</th>\n",
              "      <td>Balto (1995)</td>\n",
              "      <td>0.454613</td>\n",
              "    </tr>\n",
              "    <tr>\n",
              "      <th>3</th>\n",
              "      <td>Gumby: The Movie (1995)</td>\n",
              "      <td>0.450057</td>\n",
              "    </tr>\n",
              "    <tr>\n",
              "      <th>4</th>\n",
              "      <td>Hercules (1997)</td>\n",
              "      <td>0.425762</td>\n",
              "    </tr>\n",
              "    <tr>\n",
              "      <th>5</th>\n",
              "      <td>Rugrats Movie, The (1998)</td>\n",
              "      <td>0.410650</td>\n",
              "    </tr>\n",
              "    <tr>\n",
              "      <th>6</th>\n",
              "      <td>Chicken Run (2000)</td>\n",
              "      <td>0.409109</td>\n",
              "    </tr>\n",
              "    <tr>\n",
              "      <th>7</th>\n",
              "      <td>Saludos Amigos (1943)</td>\n",
              "      <td>0.407878</td>\n",
              "    </tr>\n",
              "    <tr>\n",
              "      <th>8</th>\n",
              "      <td>Space Jam (1996)</td>\n",
              "      <td>0.406058</td>\n",
              "    </tr>\n",
              "    <tr>\n",
              "      <th>9</th>\n",
              "      <td>Aladdin and the King of Thieves (1996)</td>\n",
              "      <td>0.403447</td>\n",
              "    </tr>\n",
              "    <tr>\n",
              "      <th>10</th>\n",
              "      <td>Aladdin (1992)</td>\n",
              "      <td>0.401979</td>\n",
              "    </tr>\n",
              "    <tr>\n",
              "      <th>11</th>\n",
              "      <td>Steamboat Willie (1940)</td>\n",
              "      <td>0.389912</td>\n",
              "    </tr>\n",
              "    <tr>\n",
              "      <th>12</th>\n",
              "      <td>Little Mermaid, The (1989)</td>\n",
              "      <td>0.388510</td>\n",
              "    </tr>\n",
              "    <tr>\n",
              "      <th>13</th>\n",
              "      <td>Adventures of Rocky and Bullwinkle, The (2000)</td>\n",
              "      <td>0.386543</td>\n",
              "    </tr>\n",
              "    <tr>\n",
              "      <th>14</th>\n",
              "      <td>Black Cauldron, The (1985)</td>\n",
              "      <td>0.377868</td>\n",
              "    </tr>\n",
              "    <tr>\n",
              "      <th>15</th>\n",
              "      <td>Lady and the Tramp (1955)</td>\n",
              "      <td>0.377583</td>\n",
              "    </tr>\n",
              "    <tr>\n",
              "      <th>16</th>\n",
              "      <td>Fox and the Hound, The (1981)</td>\n",
              "      <td>0.376868</td>\n",
              "    </tr>\n",
              "    <tr>\n",
              "      <th>17</th>\n",
              "      <td>James and the Giant Peach (1996)</td>\n",
              "      <td>0.376435</td>\n",
              "    </tr>\n",
              "    <tr>\n",
              "      <th>18</th>\n",
              "      <td>Rescuers, The (1977)</td>\n",
              "      <td>0.371225</td>\n",
              "    </tr>\n",
              "    <tr>\n",
              "      <th>19</th>\n",
              "      <td>All Dogs Go to Heaven 2 (1996)</td>\n",
              "      <td>0.369945</td>\n",
              "    </tr>\n",
              "  </tbody>\n",
              "</table>\n",
              "</div>"
            ],
            "text/plain": [
              "                                             title  Cosine_Similarity\n",
              "0                            Goofy Movie, A (1995)           0.550451\n",
              "1                                Pocahontas (1995)           0.496681\n",
              "2                                     Balto (1995)           0.454613\n",
              "3                          Gumby: The Movie (1995)           0.450057\n",
              "4                                  Hercules (1997)           0.425762\n",
              "5                        Rugrats Movie, The (1998)           0.410650\n",
              "6                               Chicken Run (2000)           0.409109\n",
              "7                            Saludos Amigos (1943)           0.407878\n",
              "8                                 Space Jam (1996)           0.406058\n",
              "9           Aladdin and the King of Thieves (1996)           0.403447\n",
              "10                                  Aladdin (1992)           0.401979\n",
              "11                         Steamboat Willie (1940)           0.389912\n",
              "12                      Little Mermaid, The (1989)           0.388510\n",
              "13  Adventures of Rocky and Bullwinkle, The (2000)           0.386543\n",
              "14                      Black Cauldron, The (1985)           0.377868\n",
              "15                       Lady and the Tramp (1955)           0.377583\n",
              "16                   Fox and the Hound, The (1981)           0.376868\n",
              "17                James and the Giant Peach (1996)           0.376435\n",
              "18                            Rescuers, The (1977)           0.371225\n",
              "19                  All Dogs Go to Heaven 2 (1996)           0.369945"
            ]
          },
          "execution_count": 24,
          "metadata": {},
          "output_type": "execute_result"
        }
      ],
      "source": [
        "get_recommendations('Toy Story (1995)',cosine_sim)"
      ]
    },
    {
      "cell_type": "code",
      "execution_count": null,
      "metadata": {
        "colab": {
          "base_uri": "https://localhost:8080/",
          "height": 472
        },
        "id": "-mGRznGNfBy4",
        "outputId": "9912a677-6656-44ab-a3fd-4c71fced31bd"
      },
      "outputs": [
        {
          "data": {
            "image/png": "[encoded data removed]",
            "text/plain": [
              "<Figure size 640x480 with 1 Axes>"
            ]
          },
          "metadata": {},
          "output_type": "display_data"
        }
      ],
      "source": [
        "\n",
        "title = 'Hate (Haine, La) (1995)'\n",
        "\n",
        "# Call the 'get_recommendations' function\n",
        "recommended_items = get_recommendations(title)\n",
        "\n",
        "# Call the 'show_result' function\n",
        "show_result(recommended_items)"
      ]
    },
    {
      "cell_type": "code",
      "execution_count": null,
      "metadata": {
        "colab": {
          "base_uri": "https://localhost:8080/",
          "height": 676
        },
        "id": "bsAju_BXRdVH",
        "outputId": "cc2baa4a-21c7-4c2e-dfbb-3a40a1c97cb1"
      },
      "outputs": [
        {
          "data": {
            "text/html": [
              "<div>\n",
              "<style scoped>\n",
              "    .dataframe tbody tr th:only-of-type {\n",
              "        vertical-align: middle;\n",
              "    }\n",
              "\n",
              "    .dataframe tbody tr th {\n",
              "        vertical-align: top;\n",
              "    }\n",
              "\n",
              "    .dataframe thead th {\n",
              "        text-align: right;\n",
              "    }\n",
              "</style>\n",
              "<table border=\"1\" class=\"dataframe\">\n",
              "  <thead>\n",
              "    <tr style=\"text-align: right;\">\n",
              "      <th></th>\n",
              "      <th>title</th>\n",
              "      <th>Cosine_Similarity</th>\n",
              "    </tr>\n",
              "  </thead>\n",
              "  <tbody>\n",
              "    <tr>\n",
              "      <th>0</th>\n",
              "      <td>Cérémonie, La (1995)</td>\n",
              "      <td>0.435326</td>\n",
              "    </tr>\n",
              "    <tr>\n",
              "      <th>1</th>\n",
              "      <td>Bamba, La (1987)</td>\n",
              "      <td>0.385787</td>\n",
              "    </tr>\n",
              "    <tr>\n",
              "      <th>2</th>\n",
              "      <td>Collectionneuse, La (1967)</td>\n",
              "      <td>0.379840</td>\n",
              "    </tr>\n",
              "    <tr>\n",
              "      <th>3</th>\n",
              "      <td>Symphonie pastorale, La (1946)</td>\n",
              "      <td>0.366845</td>\n",
              "    </tr>\n",
              "    <tr>\n",
              "      <th>4</th>\n",
              "      <td>Scorta, La (1993)</td>\n",
              "      <td>0.356233</td>\n",
              "    </tr>\n",
              "    <tr>\n",
              "      <th>5</th>\n",
              "      <td>Grand Illusion (Grande illusion, La) (1937)</td>\n",
              "      <td>0.259206</td>\n",
              "    </tr>\n",
              "    <tr>\n",
              "      <th>6</th>\n",
              "      <td>Death in the Garden (Mort en ce jardin, La) (1...</td>\n",
              "      <td>0.246645</td>\n",
              "    </tr>\n",
              "    <tr>\n",
              "      <th>7</th>\n",
              "      <td>Vie est belle, La (Life is Rosey) (1987)</td>\n",
              "      <td>0.238932</td>\n",
              "    </tr>\n",
              "    <tr>\n",
              "      <th>8</th>\n",
              "      <td>Old Lady Who Walked in the Sea, The (Vieille q...</td>\n",
              "      <td>0.226430</td>\n",
              "    </tr>\n",
              "    <tr>\n",
              "      <th>9</th>\n",
              "      <td>Angela (1995)</td>\n",
              "      <td>0.129761</td>\n",
              "    </tr>\n",
              "    <tr>\n",
              "      <th>10</th>\n",
              "      <td>Othello (1995)</td>\n",
              "      <td>0.120925</td>\n",
              "    </tr>\n",
              "    <tr>\n",
              "      <th>11</th>\n",
              "      <td>Sweet Nothing (1995)</td>\n",
              "      <td>0.118838</td>\n",
              "    </tr>\n",
              "    <tr>\n",
              "      <th>12</th>\n",
              "      <td>Tarantella (1995)</td>\n",
              "      <td>0.118498</td>\n",
              "    </tr>\n",
              "    <tr>\n",
              "      <th>13</th>\n",
              "      <td>Lotto Land (1995)</td>\n",
              "      <td>0.117807</td>\n",
              "    </tr>\n",
              "    <tr>\n",
              "      <th>14</th>\n",
              "      <td>Diebinnen (1995)</td>\n",
              "      <td>0.117668</td>\n",
              "    </tr>\n",
              "    <tr>\n",
              "      <th>15</th>\n",
              "      <td>Kids (1995)</td>\n",
              "      <td>0.117485</td>\n",
              "    </tr>\n",
              "    <tr>\n",
              "      <th>16</th>\n",
              "      <td>Panther (1995)</td>\n",
              "      <td>0.117375</td>\n",
              "    </tr>\n",
              "    <tr>\n",
              "      <th>17</th>\n",
              "      <td>Hoogste tijd (1995)</td>\n",
              "      <td>0.117309</td>\n",
              "    </tr>\n",
              "    <tr>\n",
              "      <th>18</th>\n",
              "      <td>Restoration (1995)</td>\n",
              "      <td>0.117114</td>\n",
              "    </tr>\n",
              "    <tr>\n",
              "      <th>19</th>\n",
              "      <td>Braveheart (1995)</td>\n",
              "      <td>0.117092</td>\n",
              "    </tr>\n",
              "  </tbody>\n",
              "</table>\n",
              "</div>"
            ],
            "text/plain": [
              "                                                title  Cosine_Similarity\n",
              "0                                Cérémonie, La (1995)           0.435326\n",
              "1                                    Bamba, La (1987)           0.385787\n",
              "2                          Collectionneuse, La (1967)           0.379840\n",
              "3                      Symphonie pastorale, La (1946)           0.366845\n",
              "4                                   Scorta, La (1993)           0.356233\n",
              "5         Grand Illusion (Grande illusion, La) (1937)           0.259206\n",
              "6   Death in the Garden (Mort en ce jardin, La) (1...           0.246645\n",
              "7            Vie est belle, La (Life is Rosey) (1987)           0.238932\n",
              "8   Old Lady Who Walked in the Sea, The (Vieille q...           0.226430\n",
              "9                                       Angela (1995)           0.129761\n",
              "10                                     Othello (1995)           0.120925\n",
              "11                               Sweet Nothing (1995)           0.118838\n",
              "12                                  Tarantella (1995)           0.118498\n",
              "13                                  Lotto Land (1995)           0.117807\n",
              "14                                   Diebinnen (1995)           0.117668\n",
              "15                                        Kids (1995)           0.117485\n",
              "16                                     Panther (1995)           0.117375\n",
              "17                                Hoogste tijd (1995)           0.117309\n",
              "18                                 Restoration (1995)           0.117114\n",
              "19                                  Braveheart (1995)           0.117092"
            ]
          },
          "execution_count": 26,
          "metadata": {},
          "output_type": "execute_result"
        }
      ],
      "source": [
        "get_recommendations('Hate (Haine, La) (1995)',cosine_sim)"
      ]
    },
    {
      "cell_type": "code",
      "execution_count": null,
      "metadata": {
        "id": "81SpxyflUrL7",
        "outputId": "2c87b6e4-06fb-4486-953f-198cc12eac95"
      },
      "outputs": [
        {
          "data": {
            "text/html": [
              "<div>\n",
              "<style scoped>\n",
              "    .dataframe tbody tr th:only-of-type {\n",
              "        vertical-align: middle;\n",
              "    }\n",
              "\n",
              "    .dataframe tbody tr th {\n",
              "        vertical-align: top;\n",
              "    }\n",
              "\n",
              "    .dataframe thead th {\n",
              "        text-align: right;\n",
              "    }\n",
              "</style>\n",
              "<table border=\"1\" class=\"dataframe\">\n",
              "  <thead>\n",
              "    <tr style=\"text-align: right;\">\n",
              "      <th></th>\n",
              "      <th>Unnamed: 0</th>\n",
              "      <th>movie_id</th>\n",
              "      <th>title</th>\n",
              "      <th>genres</th>\n",
              "      <th>Joined_Column</th>\n",
              "      <th>Preprocessed_Joined_Column</th>\n",
              "    </tr>\n",
              "  </thead>\n",
              "  <tbody>\n",
              "    <tr>\n",
              "      <th>0</th>\n",
              "      <td>0</td>\n",
              "      <td>1</td>\n",
              "      <td>Toy Story (1995)</td>\n",
              "      <td>Animation|Children's|Comedy</td>\n",
              "      <td>Toy Story (1995), Animation|Children's|Comedy</td>\n",
              "      <td>toystory(1995) animation|children's|comedy</td>\n",
              "    </tr>\n",
              "    <tr>\n",
              "      <th>1</th>\n",
              "      <td>1</td>\n",
              "      <td>2</td>\n",
              "      <td>Jumanji (1995)</td>\n",
              "      <td>Adventure|Children's|Fantasy</td>\n",
              "      <td>Jumanji (1995), Adventure|Children's|Fantasy</td>\n",
              "      <td>jumanji(1995) adventure|children's|fantasy</td>\n",
              "    </tr>\n",
              "    <tr>\n",
              "      <th>2</th>\n",
              "      <td>2</td>\n",
              "      <td>3</td>\n",
              "      <td>Grumpier Old Men (1995)</td>\n",
              "      <td>Comedy|Romance</td>\n",
              "      <td>Grumpier Old Men (1995), Comedy|Romance</td>\n",
              "      <td>grumpieroldmen(1995) comedy|romance</td>\n",
              "    </tr>\n",
              "    <tr>\n",
              "      <th>3</th>\n",
              "      <td>3</td>\n",
              "      <td>4</td>\n",
              "      <td>Waiting to Exhale (1995)</td>\n",
              "      <td>Comedy|Drama</td>\n",
              "      <td>Waiting to Exhale (1995), Comedy|Drama</td>\n",
              "      <td>waitingtoexhale(1995) comedy|drama</td>\n",
              "    </tr>\n",
              "    <tr>\n",
              "      <th>4</th>\n",
              "      <td>4</td>\n",
              "      <td>5</td>\n",
              "      <td>Father of the Bride Part II (1995)</td>\n",
              "      <td>Comedy</td>\n",
              "      <td>Father of the Bride Part II (1995), Comedy</td>\n",
              "      <td>fatherofthebridepartii(1995) comedy</td>\n",
              "    </tr>\n",
              "    <tr>\n",
              "      <th>...</th>\n",
              "      <td>...</td>\n",
              "      <td>...</td>\n",
              "      <td>...</td>\n",
              "      <td>...</td>\n",
              "      <td>...</td>\n",
              "      <td>...</td>\n",
              "    </tr>\n",
              "    <tr>\n",
              "      <th>3878</th>\n",
              "      <td>3878</td>\n",
              "      <td>3948</td>\n",
              "      <td>Meet the Parents (2000)</td>\n",
              "      <td>Comedy</td>\n",
              "      <td>Meet the Parents (2000), Comedy</td>\n",
              "      <td>meettheparents(2000) comedy</td>\n",
              "    </tr>\n",
              "    <tr>\n",
              "      <th>3879</th>\n",
              "      <td>3879</td>\n",
              "      <td>3949</td>\n",
              "      <td>Requiem for a Dream (2000)</td>\n",
              "      <td>Drama</td>\n",
              "      <td>Requiem for a Dream (2000), Drama</td>\n",
              "      <td>requiemforadream(2000) drama</td>\n",
              "    </tr>\n",
              "    <tr>\n",
              "      <th>3880</th>\n",
              "      <td>3880</td>\n",
              "      <td>3950</td>\n",
              "      <td>Tigerland (2000)</td>\n",
              "      <td>Drama</td>\n",
              "      <td>Tigerland (2000), Drama</td>\n",
              "      <td>tigerland(2000) drama</td>\n",
              "    </tr>\n",
              "    <tr>\n",
              "      <th>3881</th>\n",
              "      <td>3881</td>\n",
              "      <td>3951</td>\n",
              "      <td>Two Family House (2000)</td>\n",
              "      <td>Drama</td>\n",
              "      <td>Two Family House (2000), Drama</td>\n",
              "      <td>twofamilyhouse(2000) drama</td>\n",
              "    </tr>\n",
              "    <tr>\n",
              "      <th>3882</th>\n",
              "      <td>3882</td>\n",
              "      <td>3952</td>\n",
              "      <td>Contender, The (2000)</td>\n",
              "      <td>Drama|Thriller</td>\n",
              "      <td>Contender, The (2000), Drama|Thriller</td>\n",
              "      <td>contender the(2000) drama|thriller</td>\n",
              "    </tr>\n",
              "  </tbody>\n",
              "</table>\n",
              "<p>3883 rows × 6 columns</p>\n",
              "</div>"
            ],
            "text/plain": [
              "      Unnamed: 0  movie_id                               title  \\\n",
              "0              0         1                    Toy Story (1995)   \n",
              "1              1         2                      Jumanji (1995)   \n",
              "2              2         3             Grumpier Old Men (1995)   \n",
              "3              3         4            Waiting to Exhale (1995)   \n",
              "4              4         5  Father of the Bride Part II (1995)   \n",
              "...          ...       ...                                 ...   \n",
              "3878        3878      3948             Meet the Parents (2000)   \n",
              "3879        3879      3949          Requiem for a Dream (2000)   \n",
              "3880        3880      3950                    Tigerland (2000)   \n",
              "3881        3881      3951             Two Family House (2000)   \n",
              "3882        3882      3952               Contender, The (2000)   \n",
              "\n",
              "                            genres  \\\n",
              "0      Animation|Children's|Comedy   \n",
              "1     Adventure|Children's|Fantasy   \n",
              "2                   Comedy|Romance   \n",
              "3                     Comedy|Drama   \n",
              "4                           Comedy   \n",
              "...                            ...   \n",
              "3878                        Comedy   \n",
              "3879                         Drama   \n",
              "3880                         Drama   \n",
              "3881                         Drama   \n",
              "3882                Drama|Thriller   \n",
              "\n",
              "                                      Joined_Column  \\\n",
              "0     Toy Story (1995), Animation|Children's|Comedy   \n",
              "1      Jumanji (1995), Adventure|Children's|Fantasy   \n",
              "2           Grumpier Old Men (1995), Comedy|Romance   \n",
              "3            Waiting to Exhale (1995), Comedy|Drama   \n",
              "4        Father of the Bride Part II (1995), Comedy   \n",
              "...                                             ...   \n",
              "3878                Meet the Parents (2000), Comedy   \n",
              "3879              Requiem for a Dream (2000), Drama   \n",
              "3880                        Tigerland (2000), Drama   \n",
              "3881                 Two Family House (2000), Drama   \n",
              "3882          Contender, The (2000), Drama|Thriller   \n",
              "\n",
              "                      Preprocessed_Joined_Column  \n",
              "0     toystory(1995) animation|children's|comedy  \n",
              "1     jumanji(1995) adventure|children's|fantasy  \n",
              "2            grumpieroldmen(1995) comedy|romance  \n",
              "3             waitingtoexhale(1995) comedy|drama  \n",
              "4            fatherofthebridepartii(1995) comedy  \n",
              "...                                          ...  \n",
              "3878                 meettheparents(2000) comedy  \n",
              "3879                requiemforadream(2000) drama  \n",
              "3880                       tigerland(2000) drama  \n",
              "3881                  twofamilyhouse(2000) drama  \n",
              "3882          contender the(2000) drama|thriller  \n",
              "\n",
              "[3883 rows x 6 columns]"
            ]
          },
          "execution_count": 27,
          "metadata": {},
          "output_type": "execute_result"
        }
      ],
      "source": [
        "df"
      ]
    },
    {
      "cell_type": "code",
      "execution_count": null,
      "metadata": {
        "id": "bWr8pBpdUrL7"
      },
      "outputs": [],
      "source": [
        "##### import pandas as pd\n",
        "import numpy as np\n",
        "from sklearn.feature_extraction.text import TfidfVectorizer\n",
        "from sklearn.metrics.pairwise import cosine_similarity\n",
        "import random\n",
        "\n",
        "# Read the movie data from 'movielens_movies.csv'\n",
        "df = pd.read_csv('movielens_movies.csv')\n",
        "\n",
        "# Function to recommend random movies\n",
        "def recommend_random_movies(df, n=20):\n",
        "    random_movies = df.sample(n)\n",
        "    random_movies['title_genre'] = random_movies['title'] + ' ' + random_movies['genres']\n",
        "    return random_movies[['title_genre']]\n",
        "\n",
        "# Function to get user ratings for movies\n",
        "user_ratings = {}\n",
        "def get_user_ratings(id, rating):\n",
        "    print('user_rating', user_ratings)\n",
        "    user_ratings[id] = rating\n",
        "\n",
        "# Function to recommend movies based on cosine similarity to user's rated movies\n",
        "def recommend_similar_movies(df, cosine_sim, user_ratings, n=10):\n",
        "    # Get the indices of movies rated 4 or 5 by the user\n",
        "    rated_movies_indices = np.where((user_ratings == 4) | (user_ratings == 5))[0]\n",
        "\n",
        "    # Get the cosine similarity scores for the rated movies\n",
        "    similarity_scores = cosine_sim[rated_movies_indices].sum(axis=0)\n",
        "\n",
        "    # Sort the movies based on similarity scores\n",
        "    sorted_indices = np.argsort(similarity_scores)[::-1]\n",
        "\n",
        "    # Get the top N similar movie indices\n",
        "    top_movie_indices = sorted_indices[:n]\n",
        "\n",
        "    # Get the details of the recommended movies\n",
        "    recommended_movies = df.iloc[top_movie_indices][['title', 'genres']]\n",
        "    recommended_movies['title_genre'] = recommended_movies['title'] + ' ' + recommended_movies['genres']\n",
        "\n",
        "    return recommended_movies[['title_genre']]\n",
        "\n"
      ]
    },
    {
      "cell_type": "code",
      "source": [
        "import time\n",
        "user_history = []\n",
        "\n",
        "def get_movies_list():\n",
        "    movies = []\n",
        "    for index, row in recommend_random_movies(df).iterrows():\n",
        "        movies.append({\n",
        "           \"id\": row['title_genre']\n",
        "        })\n",
        "    return movies\n",
        "\n",
        "async def get_recommended_movies_list():\n",
        "    recommended_movies_by_ratings = recommend_similar_movies(df, cosine_sim, pd.Series(user_ratings.values()), n=10)\n",
        "    print(\"Recommended Movies based on Ratings:\")\n",
        "    print(recommended_movies_by_ratings)\n",
        "    movies = []\n",
        "    for index, row in recommended_movies_by_ratings.iterrows():\n",
        "        movies.append({\n",
        "           \"id\": row['title_genre']\n",
        "        })\n",
        "    return movies\n",
        "\n",
        "async def rec():\n",
        "    interested_movies = [title_genre for title_genre, rating in user_ratings.items() if rating >= 4]\n",
        "    print(interested_movies, 'interested_movies')\n",
        "    vectorizer = TfidfVectorizer(stop_words='english')\n",
        "    tfidf_matrix = vectorizer.fit_transform(df['genres'].values.astype('U'))\n",
        "    cosine_sim = cosine_similarity(tfidf_matrix)\n",
        "    recommended_movies_by_ratings = recommend_similar_movies(df, cosine_sim, pd.Series(user_ratings.values()), n=10)\n",
        "    movies = []\n",
        "    for index, row in recommended_movies_by_ratings.iterrows():\n",
        "        movies.append({\n",
        "           \"id\": row['title_genre']\n",
        "        })\n",
        "    return movies"
      ],
      "metadata": {
        "id": "1CfsLzczXlEX"
      },
      "execution_count": null,
      "outputs": []
    },
    {
      "cell_type": "code",
      "source": [
        "# Assuming you have defined the necessary variables (df, user_ratings, cosine_sim, etc.)\n",
        "\n",
        "async def main():\n",
        "    recommended_movies = await rec()\n",
        "    print(recommended_movies)\n",
        "\n",
        "await main()"
      ],
      "metadata": {
        "id": "u73KMDlxYCDh",
        "outputId": "3c8ee78e-e80e-402d-83fb-2b1eead206fa",
        "colab": {
          "base_uri": "https://localhost:8080/"
        }
      },
      "execution_count": null,
      "outputs": [
        {
          "output_type": "stream",
          "name": "stdout",
          "text": [
            "[] interested_movies\n",
            "[{'id': 'Contender, The (2000) Drama|Thriller'}, {'id': 'M*A*S*H (1970) Comedy|War'}, {'id': \"Amityville 1992: It's About Time (1992) Horror\"}, {'id': 'American Werewolf in London, An (1981) Horror'}, {'id': 'Alien³ (1992) Action|Horror|Sci-Fi|Thriller'}, {'id': 'Kids of Survival (1993) Documentary'}, {'id': 'Blue Juice (1995) Comedy|Drama'}, {'id': \"I'm Not Rappaport (1996) Comedy\"}, {'id': 'Anna (1996) Drama'}, {'id': 'Paris Was a Woman (1995) Documentary'}]\n"
          ]
        },
        {
          "output_type": "stream",
          "name": "stderr",
          "text": [
            "<ipython-input-26-d2fa7c1ff53a>:29: FutureWarning: The default dtype for empty Series will be 'object' instead of 'float64' in a future version. Specify a dtype explicitly to silence this warning.\n",
            "  recommended_movies_by_ratings = recommend_similar_movies(df, cosine_sim, pd.Series(user_ratings.values()), n=10)\n"
          ]
        }
      ]
    },
    {
      "cell_type": "code",
      "execution_count": null,
      "metadata": {
        "id": "cNf9KxLwUrL7",
        "outputId": "24a58aad-9727-46c6-f8ed-13f43f41c5e4",
        "collapsed": true
      },
      "outputs": [
        {
          "name": "stderr",
          "output_type": "stream",
          "text": [
            "INFO:     Started server process [9704]\n",
            "INFO:     Waiting for application startup.\n",
            "INFO:     Application startup complete.\n",
            "INFO:     Uvicorn running on http://127.0.0.1:8000 (Press CTRL+C to quit)\n"
          ]
        },
        {
          "name": "stdout",
          "output_type": "stream",
          "text": [
            "[] interested_movies\n",
            "INFO:     127.0.0.1:10951 - \"GET /recom-movie HTTP/1.1\" 500 Internal Server Error\n"
          ]
        },
        {
          "name": "stderr",
          "output_type": "stream",
          "text": [
            "ERROR:    Exception in ASGI application\n",
            "Traceback (most recent call last):\n",
            "  File \"C:\\Users\\Parisa\\AppData\\Local\\Programs\\Python\\Python312\\Lib\\site-packages\\uvicorn\\protocols\\http\\h11_impl.py\", line 404, in run_asgi\n",
            "    result = await app(  # type: ignore[func-returns-value]\n",
            "             ^^^^^^^^^^^^^^^^^^^^^^^^^^^^^^^^^^^^^^^^^^^^^^\n",
            "  File \"C:\\Users\\Parisa\\AppData\\Local\\Programs\\Python\\Python312\\Lib\\site-packages\\uvicorn\\middleware\\proxy_headers.py\", line 84, in __call__\n",
            "    return await self.app(scope, receive, send)\n",
            "           ^^^^^^^^^^^^^^^^^^^^^^^^^^^^^^^^^^^^\n",
            "  File \"C:\\Users\\Parisa\\AppData\\Local\\Programs\\Python\\Python312\\Lib\\site-packages\\fastapi\\applications.py\", line 1054, in __call__\n",
            "    await super().__call__(scope, receive, send)\n",
            "  File \"C:\\Users\\Parisa\\AppData\\Local\\Programs\\Python\\Python312\\Lib\\site-packages\\starlette\\applications.py\", line 123, in __call__\n",
            "    await self.middleware_stack(scope, receive, send)\n",
            "  File \"C:\\Users\\Parisa\\AppData\\Local\\Programs\\Python\\Python312\\Lib\\site-packages\\starlette\\middleware\\errors.py\", line 186, in __call__\n",
            "    raise exc\n",
            "  File \"C:\\Users\\Parisa\\AppData\\Local\\Programs\\Python\\Python312\\Lib\\site-packages\\starlette\\middleware\\errors.py\", line 164, in __call__\n",
            "    await self.app(scope, receive, _send)\n",
            "  File \"C:\\Users\\Parisa\\AppData\\Local\\Programs\\Python\\Python312\\Lib\\site-packages\\starlette\\middleware\\cors.py\", line 91, in __call__\n",
            "    await self.simple_response(scope, receive, send, request_headers=headers)\n",
            "  File \"C:\\Users\\Parisa\\AppData\\Local\\Programs\\Python\\Python312\\Lib\\site-packages\\starlette\\middleware\\cors.py\", line 146, in simple_response\n",
            "    await self.app(scope, receive, send)\n",
            "  File \"C:\\Users\\Parisa\\AppData\\Local\\Programs\\Python\\Python312\\Lib\\site-packages\\starlette\\middleware\\exceptions.py\", line 62, in __call__\n",
            "    await wrap_app_handling_exceptions(self.app, conn)(scope, receive, send)\n",
            "  File \"C:\\Users\\Parisa\\AppData\\Local\\Programs\\Python\\Python312\\Lib\\site-packages\\starlette\\_exception_handler.py\", line 64, in wrapped_app\n",
            "    raise exc\n",
            "  File \"C:\\Users\\Parisa\\AppData\\Local\\Programs\\Python\\Python312\\Lib\\site-packages\\starlette\\_exception_handler.py\", line 53, in wrapped_app\n",
            "    await app(scope, receive, sender)\n",
            "  File \"C:\\Users\\Parisa\\AppData\\Local\\Programs\\Python\\Python312\\Lib\\site-packages\\starlette\\routing.py\", line 758, in __call__\n",
            "    await self.middleware_stack(scope, receive, send)\n",
            "  File \"C:\\Users\\Parisa\\AppData\\Local\\Programs\\Python\\Python312\\Lib\\site-packages\\starlette\\routing.py\", line 778, in app\n",
            "    await route.handle(scope, receive, send)\n",
            "  File \"C:\\Users\\Parisa\\AppData\\Local\\Programs\\Python\\Python312\\Lib\\site-packages\\starlette\\routing.py\", line 299, in handle\n",
            "    await self.app(scope, receive, send)\n",
            "  File \"C:\\Users\\Parisa\\AppData\\Local\\Programs\\Python\\Python312\\Lib\\site-packages\\starlette\\routing.py\", line 79, in app\n",
            "    await wrap_app_handling_exceptions(app, request)(scope, receive, send)\n",
            "  File \"C:\\Users\\Parisa\\AppData\\Local\\Programs\\Python\\Python312\\Lib\\site-packages\\starlette\\_exception_handler.py\", line 64, in wrapped_app\n",
            "    raise exc\n",
            "  File \"C:\\Users\\Parisa\\AppData\\Local\\Programs\\Python\\Python312\\Lib\\site-packages\\starlette\\_exception_handler.py\", line 53, in wrapped_app\n",
            "    await app(scope, receive, sender)\n",
            "  File \"C:\\Users\\Parisa\\AppData\\Local\\Programs\\Python\\Python312\\Lib\\site-packages\\starlette\\routing.py\", line 74, in app\n",
            "    response = await func(request)\n",
            "               ^^^^^^^^^^^^^^^^^^^\n",
            "  File \"C:\\Users\\Parisa\\AppData\\Local\\Programs\\Python\\Python312\\Lib\\site-packages\\fastapi\\routing.py\", line 299, in app\n",
            "    raise e\n",
            "  File \"C:\\Users\\Parisa\\AppData\\Local\\Programs\\Python\\Python312\\Lib\\site-packages\\fastapi\\routing.py\", line 294, in app\n",
            "    raw_response = await run_endpoint_function(\n",
            "                   ^^^^^^^^^^^^^^^^^^^^^^^^^^^^\n",
            "  File \"C:\\Users\\Parisa\\AppData\\Local\\Programs\\Python\\Python312\\Lib\\site-packages\\fastapi\\routing.py\", line 191, in run_endpoint_function\n",
            "    return await dependant.call(**values)\n",
            "           ^^^^^^^^^^^^^^^^^^^^^^^^^^^^^^\n",
            "  File \"C:\\Users\\Parisa\\AppData\\Local\\Temp\\ipykernel_9704\\578158968.py\", line 34, in read_recom\n",
            "    d= await rec()\n",
            "       ^^^^^^^^^^^\n",
            "  File \"C:\\Users\\Parisa\\AppData\\Local\\Temp\\ipykernel_9704\\2848076177.py\", line 32, in rec\n",
            "    print(row[2])\n",
            "          ~~~^^^\n",
            "IndexError: tuple index out of range\n"
          ]
        },
        {
          "name": "stdout",
          "output_type": "stream",
          "text": [
            "INFO:     127.0.0.1:10952 - \"GET /movies HTTP/1.1\" 200 OK\n"
          ]
        }
      ],
      "source": [
        "from typing import Union\n",
        "from fastapi import FastAPI\n",
        "import uvicorn\n",
        "from fastapi.middleware.cors import CORSMiddleware\n",
        "from pydantic import BaseModel\n",
        "from fastapi.encoders import jsonable_encoder\n",
        "import simplejson as json\n",
        "import asyncio\n",
        "\n",
        "class Item(BaseModel):\n",
        "    id: str\n",
        "    rate: float\n",
        "\n",
        "app = FastAPI()\n",
        "\n",
        "origins = [\n",
        "    \"http://localhost.tiangolo.com\",\n",
        "    \"https://localhost.tiangolo.com\",\n",
        "    \"http://localhost\",\n",
        "    \"http://localhost:8080\",\n",
        "    \"http://localhost:3000\",\n",
        "]\n",
        "\n",
        "app.add_middleware(\n",
        "    CORSMiddleware,\n",
        "    allow_origins=origins,\n",
        "    allow_credentials=True,\n",
        "    allow_methods=[\"*\"],\n",
        "    allow_headers=[\"*\"],\n",
        ")\n",
        "@app.get(\"/recom-movie\")\n",
        "async def read_recom():\n",
        "    d= await rec()\n",
        "    return {\"data\": d}\n",
        "\n",
        "@app.get(\"/movies\")\n",
        "def read_root(\n",
        "):\n",
        "    return {\"data\": get_movies_list()}\n",
        "\n",
        "@app.post(\"/rate\")\n",
        "def create_rate(item: Item):\n",
        "    data = jsonable_encoder(item)\n",
        "    get_user_ratings(data['id'], data['rate'])\n",
        "    return \"\"\n",
        "\n",
        "config = uvicorn.Config(app)\n",
        "server = uvicorn.Server(config)\n",
        "await server.serve()\n",
        "#uvicorn.run(app, port=5000, log_level=\"info\")\n"
      ]
    },
    {
      "cell_type": "code",
      "execution_count": null,
      "metadata": {
        "id": "5F7fWxCMUrL8"
      },
      "outputs": [],
      "source": []
    }
  ],
  "metadata": {
    "colab": {
      "provenance": []
    },
    "kernelspec": {
      "display_name": "Python 3 (ipykernel)",
      "language": "python",
      "name": "python3"
    },
    "language_info": {
      "codemirror_mode": {
        "name": "ipython",
        "version": 3
      },
      "file_extension": ".py",
      "mimetype": "text/x-python",
      "name": "python",
      "nbconvert_exporter": "python",
      "pygments_lexer": "ipython3",
      "version": "3.12.2"
    }
  },
  "nbformat": 4,
  "nbformat_minor": 0
}